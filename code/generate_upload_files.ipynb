{
 "cells": [
  {
   "cell_type": "markdown",
   "id": "e3a8a1ba",
   "metadata": {},
   "source": [
    "#### Imports"
   ]
  },
  {
   "cell_type": "code",
   "execution_count": 1,
   "id": "b9b6e920",
   "metadata": {},
   "outputs": [],
   "source": [
    "%matplotlib inline\n",
    "from pathlib import Path\n",
    "import matplotlib.pyplot as plt\n",
    "import matplotlib as mpl\n",
    "import numpy as np\n",
    "import xarray as xr\n",
    "import yaml\n",
    "\n",
    "import gvpy as gv\n",
    "\n",
    "%reload_ext autoreload\n",
    "%autoreload 2\n",
    "\n",
    "%config InlineBackend.figure_format = 'retina'"
   ]
  },
  {
   "cell_type": "markdown",
   "id": "e876d580",
   "metadata": {},
   "source": [
    "# Generate files for NASA archive"
   ]
  },
  {
   "cell_type": "markdown",
   "id": "e60b0257",
   "metadata": {},
   "source": [
    "dataID_locationID_YYYYMMDD[hh[mm[ss]]]_R#[_L#][_V#][_comments].ict\n",
    "\n",
    "Where the only allowed characters are: a-zA-Z0-9_.- (that is, upper case and lower case alphanumeric, underscore, period, and hyphen). All fields not in square brackets are required. Fields are described as follows:\n",
    "```\n",
    "    dataID: short description of measured parameter/species, instrument, or model (e.g., O3; RH; VOC; PTRMS; MM5)\n",
    "    locationID: short description of site, station, platform, laboratory or institute\n",
    "    YYYY: four-digit year\n",
    "    MM: two-digit month\n",
    "    DD: two-digit day\n",
    "    hh: optional two-digit hour\n",
    "    mm: optional two-digit minute\n",
    "    ss: optional two-digit second\n",
    "    R: revision number of data\n",
    "    L: optional launch number\n",
    "    V: optional volume number\n",
    "    comments: optional additional information\n",
    "    extension: ict file extension, always “ict”\n",
    "```"
   ]
  },
  {
   "cell_type": "markdown",
   "id": "a7f0fd2d",
   "metadata": {},
   "source": [
    "file name template after chatting with Gao Chen at NASA:\n",
    "\n",
    "`PISTON-moored-velocity-Grid-SIO1_Mooring_20180919_R0_thru20191007_SNxxxx.nc`"
   ]
  },
  {
   "cell_type": "markdown",
   "id": "ed5e0a31",
   "metadata": {},
   "source": [
    "## Copy data"
   ]
  },
  {
   "cell_type": "markdown",
   "id": "61868834",
   "metadata": {},
   "source": [
    "Copy data to new directory. Use `cp -RL` to follow the symlinks in the git-annex data structure."
   ]
  },
  {
   "cell_type": "code",
   "execution_count": 43,
   "id": "fc67c26b",
   "metadata": {},
   "outputs": [],
   "source": [
    "data_dir = Path(\"/Users/gunnar/Desktop/piston_upload/\")"
   ]
  },
  {
   "cell_type": "code",
   "execution_count": 44,
   "id": "cad512c0",
   "metadata": {},
   "outputs": [],
   "source": [
    "data_dir.mkdir(exist_ok=True)"
   ]
  },
  {
   "cell_type": "code",
   "execution_count": 58,
   "id": "498563c2",
   "metadata": {},
   "outputs": [],
   "source": [
    "!cp -RL ../data/proc/thermistor $data_dir/"
   ]
  },
  {
   "cell_type": "code",
   "execution_count": 46,
   "id": "0ba00810",
   "metadata": {},
   "outputs": [],
   "source": [
    "!cp -RL ../data/proc/adcp $data_dir/"
   ]
  },
  {
   "cell_type": "markdown",
   "id": "6f9d6472",
   "metadata": {},
   "source": [
    "## Rename thermistor files"
   ]
  },
  {
   "cell_type": "markdown",
   "id": "3ead1a19",
   "metadata": {},
   "source": [
    "file name example:\n",
    "\n",
    "PISTON-moored-temperature_mooring-SIO1_start-time_R0_grid_thru-end-time.nc"
   ]
  },
  {
   "cell_type": "code",
   "execution_count": 59,
   "id": "c0ab63e1",
   "metadata": {},
   "outputs": [],
   "source": [
    "tdir = data_dir.joinpath(\"thermistor/L2\")"
   ]
  },
  {
   "cell_type": "code",
   "execution_count": 60,
   "id": "d4fd3139",
   "metadata": {},
   "outputs": [],
   "source": [
    "files = sorted(tdir.glob(\"*.nc\"))"
   ]
  },
  {
   "cell_type": "code",
   "execution_count": 61,
   "id": "d460a82c",
   "metadata": {},
   "outputs": [
    {
     "data": {
      "text/plain": [
       "[PosixPath('/Users/gunnar/Desktop/piston_upload/thermistor/L2/PISTON_SIO1_Tgrid.nc'),\n",
       " PosixPath('/Users/gunnar/Desktop/piston_upload/thermistor/L2/PISTON_SIO3_Tgrid.nc')]"
      ]
     },
     "execution_count": 61,
     "metadata": {},
     "output_type": "execute_result"
    }
   ],
   "source": [
    "files"
   ]
  },
  {
   "cell_type": "code",
   "execution_count": 62,
   "id": "2c502d95",
   "metadata": {},
   "outputs": [],
   "source": [
    "for file in files:\n",
    "    a = xr.open_dataarray(file)\n",
    "    time_start = \"\".join(a.time_coverage_start.split(\":\")[0].split(\"T\")[0].split(\"-\"))\n",
    "    time_end = \"\".join(a.time_coverage_end.split(\":\")[0].split(\"T\")[0].split(\"-\"))\n",
    "    file_name = f\"PISTON-moored-temperature-grid-{a.mooring}_Mooring_{time_start}_R0_thru{time_end}.nc\"\n",
    "    new = file.parent.joinpath(file_name)\n",
    "    file.rename(new)"
   ]
  },
  {
   "cell_type": "markdown",
   "id": "771e3ba4",
   "metadata": {},
   "source": [
    "## Rename ADCP files"
   ]
  },
  {
   "cell_type": "code",
   "execution_count": 56,
   "id": "1bb6735a",
   "metadata": {},
   "outputs": [],
   "source": [
    "adir = data_dir.joinpath(\"adcp\")\n",
    "moorings = sorted(adir.glob(\"SIO*\"))"
   ]
  },
  {
   "cell_type": "code",
   "execution_count": 57,
   "id": "02eac6e9",
   "metadata": {},
   "outputs": [],
   "source": [
    "for mooring in moorings:\n",
    "    files = sorted(mooring.glob(\"*.nc\"))\n",
    "    for file in files:\n",
    "        a = xr.open_dataset(file)\n",
    "        time_start = \"\".join(a.time_coverage_start.split(\":\")[0].split(\"T\")[0].split(\"-\"))\n",
    "        time_end = \"\".join(a.time_coverage_end.split(\":\")[0].split(\"T\")[0].split(\"-\"))\n",
    "        file_name = f\"PISTON-moored-velocity-grid-{a.mooring}_Mooring_{time_start}_R0_thru{time_end}_SN{a.sn}.nc\"\n",
    "        new = file.parent.joinpath(file_name)\n",
    "        file.rename(new)"
   ]
  },
  {
   "cell_type": "code",
   "execution_count": null,
   "id": "f0569d0f",
   "metadata": {},
   "outputs": [],
   "source": []
  }
 ],
 "metadata": {
  "kernelspec": {
   "display_name": "Python [conda env:piston-proc]",
   "language": "python",
   "name": "conda-env-piston-proc-py"
  },
  "language_info": {
   "codemirror_mode": {
    "name": "ipython",
    "version": 3
   },
   "file_extension": ".py",
   "mimetype": "text/x-python",
   "name": "python",
   "nbconvert_exporter": "python",
   "pygments_lexer": "ipython3",
   "version": "3.10.9"
  }
 },
 "nbformat": 4,
 "nbformat_minor": 5
}
